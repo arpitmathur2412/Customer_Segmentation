{
 "cells": [
  {
   "cell_type": "markdown",
   "metadata": {},
   "source": [
    "## Customer Segmentation"
   ]
  },
  {
   "cell_type": "markdown",
   "metadata": {},
   "source": [
    "### Multiclass Classification using Softmax Layer in TensorFlow"
   ]
  },
  {
   "cell_type": "markdown",
   "metadata": {},
   "source": [
    "### Importing the required libraries\n",
    "\n",
    "```python"
   ]
  },
  {
   "cell_type": "code",
   "execution_count": 2,
   "metadata": {},
   "outputs": [],
   "source": [
    "import tensorflow as tf\n",
    "from tensorflow.keras.layers import Dense\n",
    "from tensorflow.keras import Sequential\n",
    "from tensorflow.keras.losses import SparseCategoricalCrossentropy\n",
    "import pandas as pd\n",
    "import numpy as np\n",
    "import matplotlib as plt"
   ]
  },
  {
   "cell_type": "markdown",
   "metadata": {},
   "source": [
    "### importing Datasets"
   ]
  },
  {
   "cell_type": "code",
   "execution_count": 3,
   "metadata": {},
   "outputs": [],
   "source": [
    "train_dataset=pd.read_csv(\"./train.csv\")\n",
    "test_dataset=pd.read_csv(\"./test.csv\")"
   ]
  },
  {
   "cell_type": "markdown",
   "metadata": {},
   "source": [
    "### Modifying the dataset:"
   ]
  },
  {
   "cell_type": "code",
   "execution_count": 4,
   "metadata": {},
   "outputs": [
    {
     "name": "stdout",
     "output_type": "stream",
     "text": [
      "Shape of training dataset:(8068, 11)\n",
      "Shape of test dataset:(2627, 10)\n"
     ]
    }
   ],
   "source": [
    "train_df=pd.DataFrame(train_dataset)\n",
    "test_df=pd.DataFrame(test_dataset)\n",
    "print(f\"Shape of training dataset:{train_df.shape}\")\n",
    "print(f\"Shape of test dataset:{test_df.shape}\")"
   ]
  },
  {
   "cell_type": "code",
   "execution_count": 5,
   "metadata": {},
   "outputs": [
    {
     "data": {
      "text/plain": [
       "ID                   int64\n",
       "Gender              object\n",
       "Ever_Married        object\n",
       "Age                  int64\n",
       "Graduated           object\n",
       "Profession          object\n",
       "Work_Experience    float64\n",
       "Spending_Score      object\n",
       "Family_Size        float64\n",
       "Var_1               object\n",
       "Segmentation        object\n",
       "dtype: object"
      ]
     },
     "execution_count": 5,
     "metadata": {},
     "output_type": "execute_result"
    }
   ],
   "source": [
    "# data types for train_dataset\n",
    "train_df.dtypes"
   ]
  },
  {
   "cell_type": "code",
   "execution_count": 6,
   "metadata": {},
   "outputs": [
    {
     "data": {
      "text/plain": [
       "ID                   int64\n",
       "Gender              object\n",
       "Ever_Married        object\n",
       "Age                  int64\n",
       "Graduated           object\n",
       "Profession          object\n",
       "Work_Experience    float64\n",
       "Spending_Score      object\n",
       "Family_Size        float64\n",
       "Var_1               object\n",
       "dtype: object"
      ]
     },
     "execution_count": 6,
     "metadata": {},
     "output_type": "execute_result"
    }
   ],
   "source": [
    "test_df.dtypes"
   ]
  },
  {
   "cell_type": "markdown",
   "metadata": {},
   "source": [
    "### Removing Null Values"
   ]
  },
  {
   "cell_type": "code",
   "execution_count": 7,
   "metadata": {},
   "outputs": [
    {
     "data": {
      "text/plain": [
       "ID                   0\n",
       "Gender               0\n",
       "Ever_Married       140\n",
       "Age                  0\n",
       "Graduated           78\n",
       "Profession         124\n",
       "Work_Experience    829\n",
       "Spending_Score       0\n",
       "Family_Size        335\n",
       "Var_1               76\n",
       "Segmentation         0\n",
       "dtype: int64"
      ]
     },
     "execution_count": 7,
     "metadata": {},
     "output_type": "execute_result"
    }
   ],
   "source": [
    "# Checking null values in training dataframe\n",
    "train_df.isna().sum()"
   ]
  },
  {
   "cell_type": "markdown",
   "metadata": {},
   "source": [
    "### Converting non-numeric data to numeric"
   ]
  },
  {
   "cell_type": "code",
   "execution_count": 9,
   "metadata": {},
   "outputs": [],
   "source": [
    "from sklearn.preprocessing import LabelEncoder\n",
    "le=LabelEncoder()\n",
    "list=['Gender', 'Ever_Married', 'Graduated', 'Profession', 'Spending_Score',\n",
    "       'Var_1', 'Segmentation']\n",
    "for i in list:\n",
    "    train_df[i]=le.fit_transform(train_df[i])\n",
    "\n",
    "X_train=train_df.drop('Segmentation',axis=1)\n",
    "y_train=train_df['Segmentation']"
   ]
  },
  {
   "cell_type": "code",
   "execution_count": 10,
   "metadata": {},
   "outputs": [
    {
     "data": {
      "text/html": [
       "<div>\n",
       "<style scoped>\n",
       "    .dataframe tbody tr th:only-of-type {\n",
       "        vertical-align: middle;\n",
       "    }\n",
       "\n",
       "    .dataframe tbody tr th {\n",
       "        vertical-align: top;\n",
       "    }\n",
       "\n",
       "    .dataframe thead th {\n",
       "        text-align: right;\n",
       "    }\n",
       "</style>\n",
       "<table border=\"1\" class=\"dataframe\">\n",
       "  <thead>\n",
       "    <tr style=\"text-align: right;\">\n",
       "      <th></th>\n",
       "      <th>ID</th>\n",
       "      <th>Gender</th>\n",
       "      <th>Ever_Married</th>\n",
       "      <th>Age</th>\n",
       "      <th>Graduated</th>\n",
       "      <th>Profession</th>\n",
       "      <th>Work_Experience</th>\n",
       "      <th>Spending_Score</th>\n",
       "      <th>Family_Size</th>\n",
       "      <th>Var_1</th>\n",
       "    </tr>\n",
       "  </thead>\n",
       "  <tbody>\n",
       "    <tr>\n",
       "      <th>0</th>\n",
       "      <td>462809</td>\n",
       "      <td>1</td>\n",
       "      <td>0</td>\n",
       "      <td>22</td>\n",
       "      <td>0</td>\n",
       "      <td>5</td>\n",
       "      <td>1.000000</td>\n",
       "      <td>2</td>\n",
       "      <td>4.0</td>\n",
       "      <td>3</td>\n",
       "    </tr>\n",
       "    <tr>\n",
       "      <th>1</th>\n",
       "      <td>462643</td>\n",
       "      <td>0</td>\n",
       "      <td>1</td>\n",
       "      <td>38</td>\n",
       "      <td>1</td>\n",
       "      <td>2</td>\n",
       "      <td>2.641663</td>\n",
       "      <td>0</td>\n",
       "      <td>3.0</td>\n",
       "      <td>3</td>\n",
       "    </tr>\n",
       "    <tr>\n",
       "      <th>2</th>\n",
       "      <td>466315</td>\n",
       "      <td>0</td>\n",
       "      <td>1</td>\n",
       "      <td>67</td>\n",
       "      <td>1</td>\n",
       "      <td>2</td>\n",
       "      <td>1.000000</td>\n",
       "      <td>2</td>\n",
       "      <td>1.0</td>\n",
       "      <td>5</td>\n",
       "    </tr>\n",
       "    <tr>\n",
       "      <th>3</th>\n",
       "      <td>461735</td>\n",
       "      <td>1</td>\n",
       "      <td>1</td>\n",
       "      <td>67</td>\n",
       "      <td>1</td>\n",
       "      <td>7</td>\n",
       "      <td>0.000000</td>\n",
       "      <td>1</td>\n",
       "      <td>2.0</td>\n",
       "      <td>5</td>\n",
       "    </tr>\n",
       "    <tr>\n",
       "      <th>4</th>\n",
       "      <td>462669</td>\n",
       "      <td>0</td>\n",
       "      <td>1</td>\n",
       "      <td>40</td>\n",
       "      <td>1</td>\n",
       "      <td>3</td>\n",
       "      <td>2.641663</td>\n",
       "      <td>1</td>\n",
       "      <td>6.0</td>\n",
       "      <td>5</td>\n",
       "    </tr>\n",
       "    <tr>\n",
       "      <th>...</th>\n",
       "      <td>...</td>\n",
       "      <td>...</td>\n",
       "      <td>...</td>\n",
       "      <td>...</td>\n",
       "      <td>...</td>\n",
       "      <td>...</td>\n",
       "      <td>...</td>\n",
       "      <td>...</td>\n",
       "      <td>...</td>\n",
       "      <td>...</td>\n",
       "    </tr>\n",
       "    <tr>\n",
       "      <th>8063</th>\n",
       "      <td>464018</td>\n",
       "      <td>1</td>\n",
       "      <td>0</td>\n",
       "      <td>22</td>\n",
       "      <td>0</td>\n",
       "      <td>9</td>\n",
       "      <td>0.000000</td>\n",
       "      <td>2</td>\n",
       "      <td>7.0</td>\n",
       "      <td>0</td>\n",
       "    </tr>\n",
       "    <tr>\n",
       "      <th>8064</th>\n",
       "      <td>464685</td>\n",
       "      <td>1</td>\n",
       "      <td>0</td>\n",
       "      <td>35</td>\n",
       "      <td>0</td>\n",
       "      <td>4</td>\n",
       "      <td>3.000000</td>\n",
       "      <td>2</td>\n",
       "      <td>4.0</td>\n",
       "      <td>3</td>\n",
       "    </tr>\n",
       "    <tr>\n",
       "      <th>8065</th>\n",
       "      <td>465406</td>\n",
       "      <td>0</td>\n",
       "      <td>0</td>\n",
       "      <td>33</td>\n",
       "      <td>1</td>\n",
       "      <td>5</td>\n",
       "      <td>1.000000</td>\n",
       "      <td>2</td>\n",
       "      <td>1.0</td>\n",
       "      <td>5</td>\n",
       "    </tr>\n",
       "    <tr>\n",
       "      <th>8066</th>\n",
       "      <td>467299</td>\n",
       "      <td>0</td>\n",
       "      <td>0</td>\n",
       "      <td>27</td>\n",
       "      <td>1</td>\n",
       "      <td>5</td>\n",
       "      <td>1.000000</td>\n",
       "      <td>2</td>\n",
       "      <td>4.0</td>\n",
       "      <td>5</td>\n",
       "    </tr>\n",
       "    <tr>\n",
       "      <th>8067</th>\n",
       "      <td>461879</td>\n",
       "      <td>1</td>\n",
       "      <td>1</td>\n",
       "      <td>37</td>\n",
       "      <td>1</td>\n",
       "      <td>4</td>\n",
       "      <td>0.000000</td>\n",
       "      <td>0</td>\n",
       "      <td>3.0</td>\n",
       "      <td>3</td>\n",
       "    </tr>\n",
       "  </tbody>\n",
       "</table>\n",
       "<p>8068 rows × 10 columns</p>\n",
       "</div>"
      ],
      "text/plain": [
       "          ID  Gender  Ever_Married  Age  Graduated  Profession   \n",
       "0     462809       1             0   22          0           5  \\\n",
       "1     462643       0             1   38          1           2   \n",
       "2     466315       0             1   67          1           2   \n",
       "3     461735       1             1   67          1           7   \n",
       "4     462669       0             1   40          1           3   \n",
       "...      ...     ...           ...  ...        ...         ...   \n",
       "8063  464018       1             0   22          0           9   \n",
       "8064  464685       1             0   35          0           4   \n",
       "8065  465406       0             0   33          1           5   \n",
       "8066  467299       0             0   27          1           5   \n",
       "8067  461879       1             1   37          1           4   \n",
       "\n",
       "      Work_Experience  Spending_Score  Family_Size  Var_1  \n",
       "0            1.000000               2          4.0      3  \n",
       "1            2.641663               0          3.0      3  \n",
       "2            1.000000               2          1.0      5  \n",
       "3            0.000000               1          2.0      5  \n",
       "4            2.641663               1          6.0      5  \n",
       "...               ...             ...          ...    ...  \n",
       "8063         0.000000               2          7.0      0  \n",
       "8064         3.000000               2          4.0      3  \n",
       "8065         1.000000               2          1.0      5  \n",
       "8066         1.000000               2          4.0      5  \n",
       "8067         0.000000               0          3.0      3  \n",
       "\n",
       "[8068 rows x 10 columns]"
      ]
     },
     "execution_count": 10,
     "metadata": {},
     "output_type": "execute_result"
    }
   ],
   "source": [
    "from sklearn.impute import SimpleImputer\n",
    "imp=SimpleImputer(missing_values=np.NaN,strategy='mean')\n",
    "list=['Work_Experience','Family_Size']\n",
    "\n",
    "for i in list:\n",
    "    X_train[i]=imp.fit_transform(X_train[i].values.reshape(-1,1))\n",
    "\n",
    "X_train"
   ]
  },
  {
   "cell_type": "code",
   "execution_count": 11,
   "metadata": {},
   "outputs": [
    {
     "name": "stdout",
     "output_type": "stream",
     "text": [
      "0\n",
      "[3 0 1 2]\n"
     ]
    },
    {
     "data": {
      "text/plain": [
       "0       3\n",
       "1       0\n",
       "2       1\n",
       "3       1\n",
       "4       0\n",
       "       ..\n",
       "8063    3\n",
       "8064    3\n",
       "8065    3\n",
       "8066    1\n",
       "8067    1\n",
       "Name: Segmentation, Length: 8068, dtype: int64"
      ]
     },
     "execution_count": 11,
     "metadata": {},
     "output_type": "execute_result"
    }
   ],
   "source": [
    "print(y_train.isna().sum())\n",
    "print(y_train.unique())\n",
    "y_train"
   ]
  },
  {
   "cell_type": "code",
   "execution_count": 12,
   "metadata": {},
   "outputs": [
    {
     "data": {
      "text/plain": [
       "ID                   0\n",
       "Gender               0\n",
       "Ever_Married        50\n",
       "Age                  0\n",
       "Graduated           24\n",
       "Profession          38\n",
       "Work_Experience    269\n",
       "Spending_Score       0\n",
       "Family_Size        113\n",
       "Var_1               32\n",
       "dtype: int64"
      ]
     },
     "execution_count": 12,
     "metadata": {},
     "output_type": "execute_result"
    }
   ],
   "source": [
    "test_df.isna().sum()"
   ]
  },
  {
   "cell_type": "markdown",
   "metadata": {},
   "source": [
    "### Model: Using Softmax Layer"
   ]
  },
  {
   "cell_type": "code",
   "execution_count": 13,
   "metadata": {},
   "outputs": [],
   "source": [
    "model=Sequential([\n",
    "    Dense(units=25, activation='relu'),\n",
    "    Dense(units=15, activation='relu'),\n",
    "    Dense(units=4, activation='softmax') # Assuming there are 10 Classes\n",
    "])"
   ]
  },
  {
   "cell_type": "markdown",
   "metadata": {},
   "source": [
    "### Loss and Fit:"
   ]
  },
  {
   "cell_type": "code",
   "execution_count": 14,
   "metadata": {},
   "outputs": [
    {
     "name": "stdout",
     "output_type": "stream",
     "text": [
      "Epoch 1/100\n",
      "253/253 [==============================] - 1s 2ms/step - loss: 4635.4736\n",
      "Epoch 2/100\n",
      "253/253 [==============================] - 0s 2ms/step - loss: 1340.0198\n",
      "Epoch 3/100\n",
      "253/253 [==============================] - 0s 1ms/step - loss: 1175.1807\n",
      "Epoch 4/100\n",
      "253/253 [==============================] - 0s 1ms/step - loss: 1154.5294\n",
      "Epoch 5/100\n",
      "253/253 [==============================] - 0s 1ms/step - loss: 1123.1707\n",
      "Epoch 6/100\n",
      "253/253 [==============================] - 0s 1ms/step - loss: 1086.2954\n",
      "Epoch 7/100\n",
      "253/253 [==============================] - 0s 2ms/step - loss: 1052.9430\n",
      "Epoch 8/100\n",
      "253/253 [==============================] - 0s 2ms/step - loss: 1002.6799\n",
      "Epoch 9/100\n",
      "253/253 [==============================] - 0s 1ms/step - loss: 881.9860\n",
      "Epoch 10/100\n",
      "253/253 [==============================] - 0s 2ms/step - loss: 871.6878\n",
      "Epoch 11/100\n",
      "253/253 [==============================] - 0s 2ms/step - loss: 850.2704\n",
      "Epoch 12/100\n",
      "253/253 [==============================] - 0s 1ms/step - loss: 835.2081\n",
      "Epoch 13/100\n",
      "253/253 [==============================] - 0s 1ms/step - loss: 737.0704\n",
      "Epoch 14/100\n",
      "253/253 [==============================] - 0s 2ms/step - loss: 662.9195\n",
      "Epoch 15/100\n",
      "253/253 [==============================] - 0s 2ms/step - loss: 646.8181\n",
      "Epoch 16/100\n",
      "253/253 [==============================] - 1s 2ms/step - loss: 630.7371\n",
      "Epoch 17/100\n",
      "253/253 [==============================] - 1s 4ms/step - loss: 606.8207\n",
      "Epoch 18/100\n",
      "253/253 [==============================] - 1s 4ms/step - loss: 602.4262\n",
      "Epoch 19/100\n",
      "253/253 [==============================] - 1s 4ms/step - loss: 579.8541\n",
      "Epoch 20/100\n",
      "253/253 [==============================] - 1s 4ms/step - loss: 573.1136\n",
      "Epoch 21/100\n",
      "253/253 [==============================] - 1s 4ms/step - loss: 558.3465\n",
      "Epoch 22/100\n",
      "253/253 [==============================] - 1s 5ms/step - loss: 550.0541\n",
      "Epoch 23/100\n",
      "253/253 [==============================] - 1s 5ms/step - loss: 527.8533\n",
      "Epoch 24/100\n",
      "253/253 [==============================] - 1s 4ms/step - loss: 501.5304\n",
      "Epoch 25/100\n",
      "253/253 [==============================] - 1s 4ms/step - loss: 493.5811\n",
      "Epoch 26/100\n",
      "253/253 [==============================] - 1s 4ms/step - loss: 492.8661\n",
      "Epoch 27/100\n",
      "253/253 [==============================] - 1s 4ms/step - loss: 471.7365\n",
      "Epoch 28/100\n",
      "253/253 [==============================] - 1s 5ms/step - loss: 469.8251\n",
      "Epoch 29/100\n",
      "253/253 [==============================] - 1s 3ms/step - loss: 447.3957\n",
      "Epoch 30/100\n",
      "253/253 [==============================] - 1s 4ms/step - loss: 428.6704\n",
      "Epoch 31/100\n",
      "253/253 [==============================] - 1s 5ms/step - loss: 420.1586\n",
      "Epoch 32/100\n",
      "253/253 [==============================] - 1s 5ms/step - loss: 413.8707\n",
      "Epoch 33/100\n",
      "253/253 [==============================] - 1s 3ms/step - loss: 402.6272\n",
      "Epoch 34/100\n",
      "253/253 [==============================] - 1s 3ms/step - loss: 388.6998\n",
      "Epoch 35/100\n",
      "253/253 [==============================] - 1s 3ms/step - loss: 378.1031\n",
      "Epoch 36/100\n",
      "253/253 [==============================] - 0s 2ms/step - loss: 370.9761\n",
      "Epoch 37/100\n",
      "253/253 [==============================] - 0s 2ms/step - loss: 358.9127\n",
      "Epoch 38/100\n",
      "253/253 [==============================] - 0s 1ms/step - loss: 338.7460\n",
      "Epoch 39/100\n",
      "253/253 [==============================] - 0s 1ms/step - loss: 302.2170\n",
      "Epoch 40/100\n",
      "253/253 [==============================] - 0s 2ms/step - loss: 265.7552\n",
      "Epoch 41/100\n",
      "253/253 [==============================] - 0s 1ms/step - loss: 256.5834\n",
      "Epoch 42/100\n",
      "253/253 [==============================] - 0s 1ms/step - loss: 256.1458\n",
      "Epoch 43/100\n",
      "253/253 [==============================] - 0s 1ms/step - loss: 230.7330\n",
      "Epoch 44/100\n",
      "253/253 [==============================] - 0s 1ms/step - loss: 214.2380\n",
      "Epoch 45/100\n",
      "253/253 [==============================] - 0s 1ms/step - loss: 196.2712\n",
      "Epoch 46/100\n",
      "253/253 [==============================] - 0s 2ms/step - loss: 174.0152\n",
      "Epoch 47/100\n",
      "253/253 [==============================] - 0s 2ms/step - loss: 144.6059\n",
      "Epoch 48/100\n",
      "253/253 [==============================] - 0s 1ms/step - loss: 13.6269\n",
      "Epoch 49/100\n",
      "253/253 [==============================] - 0s 2ms/step - loss: 1.3844\n",
      "Epoch 50/100\n",
      "253/253 [==============================] - 0s 2ms/step - loss: 1.3837\n",
      "Epoch 51/100\n",
      "253/253 [==============================] - 0s 1ms/step - loss: 1.3836\n",
      "Epoch 52/100\n",
      "253/253 [==============================] - 0s 1ms/step - loss: 1.3836\n",
      "Epoch 53/100\n",
      "253/253 [==============================] - 0s 2ms/step - loss: 1.3836\n",
      "Epoch 54/100\n",
      "253/253 [==============================] - 0s 2ms/step - loss: 1.3836\n",
      "Epoch 55/100\n",
      "253/253 [==============================] - 0s 2ms/step - loss: 1.3836\n",
      "Epoch 56/100\n",
      "253/253 [==============================] - 0s 2ms/step - loss: 1.3836\n",
      "Epoch 57/100\n",
      "253/253 [==============================] - 0s 2ms/step - loss: 1.3837\n",
      "Epoch 58/100\n",
      "253/253 [==============================] - 0s 1ms/step - loss: 1.3836\n",
      "Epoch 59/100\n",
      "253/253 [==============================] - 0s 1ms/step - loss: 1.3837\n",
      "Epoch 60/100\n",
      "253/253 [==============================] - 0s 2ms/step - loss: 1.3836\n",
      "Epoch 61/100\n",
      "253/253 [==============================] - 0s 2ms/step - loss: 1.3836\n",
      "Epoch 62/100\n",
      "253/253 [==============================] - 0s 2ms/step - loss: 1.3836\n",
      "Epoch 63/100\n",
      "253/253 [==============================] - 0s 1ms/step - loss: 1.3836\n",
      "Epoch 64/100\n",
      "253/253 [==============================] - 0s 2ms/step - loss: 1.3836\n",
      "Epoch 65/100\n",
      "253/253 [==============================] - 0s 1ms/step - loss: 1.3836\n",
      "Epoch 66/100\n",
      "253/253 [==============================] - 0s 2ms/step - loss: 1.3836\n",
      "Epoch 67/100\n",
      "253/253 [==============================] - 0s 1ms/step - loss: 1.3836\n",
      "Epoch 68/100\n",
      "253/253 [==============================] - 0s 2ms/step - loss: 1.3836\n",
      "Epoch 69/100\n",
      "253/253 [==============================] - 0s 2ms/step - loss: 1.3836\n",
      "Epoch 70/100\n",
      "253/253 [==============================] - 0s 1ms/step - loss: 1.3836\n",
      "Epoch 71/100\n",
      "253/253 [==============================] - 0s 1ms/step - loss: 1.3836\n",
      "Epoch 72/100\n",
      "253/253 [==============================] - 0s 2ms/step - loss: 1.3836\n",
      "Epoch 73/100\n",
      "253/253 [==============================] - 0s 2ms/step - loss: 1.3836\n",
      "Epoch 74/100\n",
      "253/253 [==============================] - 0s 1ms/step - loss: 1.3836\n",
      "Epoch 75/100\n",
      "253/253 [==============================] - 0s 1ms/step - loss: 1.3836\n",
      "Epoch 76/100\n",
      "253/253 [==============================] - 0s 2ms/step - loss: 1.3836\n",
      "Epoch 77/100\n",
      "253/253 [==============================] - 0s 2ms/step - loss: 1.3836\n",
      "Epoch 78/100\n",
      "253/253 [==============================] - 0s 2ms/step - loss: 1.3836\n",
      "Epoch 79/100\n",
      "253/253 [==============================] - 0s 1ms/step - loss: 1.3836\n",
      "Epoch 80/100\n",
      "253/253 [==============================] - 0s 1ms/step - loss: 1.3836\n",
      "Epoch 81/100\n",
      "253/253 [==============================] - 0s 2ms/step - loss: 1.3836\n",
      "Epoch 82/100\n",
      "253/253 [==============================] - 0s 2ms/step - loss: 1.3836\n",
      "Epoch 83/100\n",
      "253/253 [==============================] - 0s 1ms/step - loss: 1.3836\n",
      "Epoch 84/100\n",
      "253/253 [==============================] - 0s 2ms/step - loss: 1.3837\n",
      "Epoch 85/100\n",
      "253/253 [==============================] - 0s 2ms/step - loss: 1.3836\n",
      "Epoch 86/100\n",
      "253/253 [==============================] - 0s 1ms/step - loss: 1.3837\n",
      "Epoch 87/100\n",
      "253/253 [==============================] - 0s 1ms/step - loss: 1.3836\n",
      "Epoch 88/100\n",
      "253/253 [==============================] - 0s 1ms/step - loss: 1.3836\n",
      "Epoch 89/100\n",
      "253/253 [==============================] - 0s 1ms/step - loss: 1.3836\n",
      "Epoch 90/100\n",
      "253/253 [==============================] - 0s 1ms/step - loss: 1.3836\n",
      "Epoch 91/100\n",
      "253/253 [==============================] - 0s 1ms/step - loss: 1.3836\n",
      "Epoch 92/100\n",
      "253/253 [==============================] - 0s 1ms/step - loss: 1.3836\n",
      "Epoch 93/100\n",
      "253/253 [==============================] - 0s 1ms/step - loss: 1.3836\n",
      "Epoch 94/100\n",
      "253/253 [==============================] - 0s 1ms/step - loss: 1.3836\n",
      "Epoch 95/100\n",
      "253/253 [==============================] - 0s 1ms/step - loss: 1.3836\n",
      "Epoch 96/100\n",
      "253/253 [==============================] - 0s 1ms/step - loss: 1.3836\n",
      "Epoch 97/100\n",
      "253/253 [==============================] - 0s 2ms/step - loss: 1.3836\n",
      "Epoch 98/100\n",
      "253/253 [==============================] - 0s 2ms/step - loss: 1.3837\n",
      "Epoch 99/100\n",
      "253/253 [==============================] - 0s 2ms/step - loss: 1.3836\n",
      "Epoch 100/100\n",
      "253/253 [==============================] - 0s 2ms/step - loss: 1.3836\n"
     ]
    },
    {
     "data": {
      "text/plain": [
       "<keras.callbacks.History at 0x1b8bd3a7910>"
      ]
     },
     "execution_count": 14,
     "metadata": {},
     "output_type": "execute_result"
    }
   ],
   "source": [
    "model.compile(loss=SparseCategoricalCrossentropy())\n",
    "model.fit(X_train,y_train, epochs=100)"
   ]
  },
  {
   "cell_type": "code",
   "execution_count": 16,
   "metadata": {},
   "outputs": [],
   "source": [
    "le=LabelEncoder()\n",
    "list=['Gender', 'Ever_Married', 'Graduated', 'Profession', 'Spending_Score',\n",
    "       'Var_1']\n",
    "for i in list:\n",
    "    test_df[i]=le.fit_transform(test_df[i])"
   ]
  },
  {
   "cell_type": "code",
   "execution_count": 17,
   "metadata": {},
   "outputs": [
    {
     "name": "stdout",
     "output_type": "stream",
     "text": [
      "Model: \"sequential\"\n",
      "_________________________________________________________________\n",
      " Layer (type)                Output Shape              Param #   \n",
      "=================================================================\n",
      " dense (Dense)               (None, 25)                275       \n",
      "                                                                 \n",
      " dense_1 (Dense)             (None, 15)                390       \n",
      "                                                                 \n",
      " dense_2 (Dense)             (None, 4)                 64        \n",
      "                                                                 \n",
      "=================================================================\n",
      "Total params: 729\n",
      "Trainable params: 729\n",
      "Non-trainable params: 0\n",
      "_________________________________________________________________\n"
     ]
    }
   ],
   "source": [
    "model.summary()"
   ]
  },
  {
   "cell_type": "code",
   "execution_count": 32,
   "metadata": {},
   "outputs": [
    {
     "name": "stdout",
     "output_type": "stream",
     "text": [
      "83/83 [==============================] - 0s 1ms/step\n"
     ]
    }
   ],
   "source": [
    "prediction=model.predict(test_df)"
   ]
  }
 ],
 "metadata": {
  "kernelspec": {
   "display_name": "Python 3",
   "language": "python",
   "name": "python3"
  },
  "language_info": {
   "codemirror_mode": {
    "name": "ipython",
    "version": 3
   },
   "file_extension": ".py",
   "mimetype": "text/x-python",
   "name": "python",
   "nbconvert_exporter": "python",
   "pygments_lexer": "ipython3",
   "version": "3.11.3"
  },
  "orig_nbformat": 4
 },
 "nbformat": 4,
 "nbformat_minor": 2
}
